{
 "cells": [
  {
   "cell_type": "markdown",
   "metadata": {},
   "source": [
    "# About This Notebook\n",
    "This Notebook is an exploration notebook to learn GBXML data manipulation created by [Martin M.](https://www.mctm.web.id)\n",
    "\n",
    "# Prerequisites\n",
    "- Before you start, as written on the [documentation](https://xgbxml.readthedocs.io/en/latest/installation.html) you have to install some basic packages with the command below:\n",
    "    \n",
    "    ```bash\n",
    "    pip install lxml xgbxml shapely triangle matplotlib\n",
    "    ```\n",
    "\n",
    "- I strongly recommend you to create a new python environment using conda or virtualenv to avoid any package conflict.\n",
    "- Also, if you run this notebook using vscode, you need to install `ipykernel` package to run this notebook with this command:\n",
    "\n",
    "    ```bash\n",
    "    pip install ipykernel\n",
    "    ```\n",
    "---"
   ]
  },
  {
   "cell_type": "markdown",
   "metadata": {},
   "source": [
    "# How to Open GBXML File\n",
    "\n",
    "## First Method: Using LXML"
   ]
  },
  {
   "cell_type": "code",
   "execution_count": 1,
   "metadata": {},
   "outputs": [
    {
     "name": "stdout",
     "output_type": "stream",
     "text": [
      "<class 'lxml.etree._Element'>\n",
      "2405\n",
      "{'useSIUnitsForResults': 'true', 'temperatureUnit': 'C', 'lengthUnit': 'Meters', 'areaUnit': 'SquareMeters', 'volumeUnit': 'CubicMeters', 'version': '0.37'}\n"
     ]
    }
   ],
   "source": [
    "from lxml import etree\n",
    "tree=etree.parse('gbXMLStandard.xml')\n",
    "gbxml=tree.getroot()\n",
    "print(type(gbxml))\n",
    "print(len(list(gbxml)))\n",
    "print(gbxml.attrib)"
   ]
  },
  {
   "cell_type": "markdown",
   "metadata": {},
   "source": [
    "## Second Method: Using XGBXML"
   ]
  },
  {
   "cell_type": "code",
   "execution_count": 2,
   "metadata": {},
   "outputs": [
    {
     "name": "stdout",
     "output_type": "stream",
     "text": [
      "<class 'xgbxml.xgbxml.gbXML'>\n",
      "2405\n"
     ]
    }
   ],
   "source": [
    "from lxml import etree\n",
    "import xgbxml\n",
    "\n",
    "parser=xgbxml.get_parser('0.37')   \n",
    "tree=etree.parse('gbXMLStandard.xml', parser)\n",
    "gbxml=tree.getroot()\n",
    "print(type(gbxml))        \n",
    "print(len(list(gbxml)))   "
   ]
  },
  {
   "cell_type": "markdown",
   "metadata": {},
   "source": [
    "---\n",
    "\n",
    "# Query a GBXML File\n",
    "\n",
    "## Using LXML"
   ]
  },
  {
   "cell_type": "code",
   "execution_count": 3,
   "metadata": {},
   "outputs": [
    {
     "name": "stdout",
     "output_type": "stream",
     "text": [
      "0.37\n",
      "{http://www.gbxml.org/schema}Campus\n",
      "650982_2006\n"
     ]
    }
   ],
   "source": [
    "from lxml import etree\n",
    "\n",
    "tree=etree.parse('gbXMLStandard.xml')\n",
    "gbxml=tree.getroot()\n",
    "print(gbxml.attrib['version'])  \n",
    "print(gbxml[0].tag)\n",
    "print(gbxml[0][0][0].text)"
   ]
  },
  {
   "cell_type": "markdown",
   "metadata": {},
   "source": [
    "## Using XGBXML"
   ]
  },
  {
   "cell_type": "code",
   "execution_count": 4,
   "metadata": {},
   "outputs": [
    {
     "name": "stdout",
     "output_type": "stream",
     "text": [
      "0.37\n",
      "{http://www.gbxml.org/schema}Campus\n",
      "650982_2006\n",
      "294708\n"
     ]
    }
   ],
   "source": [
    "tree=etree.parse('gbXMLStandard.xml')\n",
    "gbxml=tree.getroot()\n",
    "\n",
    "ns={'gbxml':'http://www.gbxml.org/schema'}\n",
    "print(gbxml.xpath('./@version')[0])  \n",
    "print(gbxml.xpath(\"./gbxml:*\", namespaces=ns)[0].tag)\n",
    "print(gbxml.xpath(\".//gbxml:StationId/text()\", namespaces=ns)[0])\n",
    "print(len(gbxml.xpath(\".//gbxml:*\", namespaces=ns)))"
   ]
  },
  {
   "cell_type": "markdown",
   "metadata": {},
   "source": [
    "# Query Example\n",
    "\n",
    "## Areas by Surface Type"
   ]
  },
  {
   "cell_type": "code",
   "execution_count": 5,
   "metadata": {},
   "outputs": [
    {
     "name": "stdout",
     "output_type": "stream",
     "text": [
      "{'Ceiling': 76.97475404196999,\n",
      " 'ExteriorWall': 5563.731124015909,\n",
      " 'InteriorFloor': 6359.7906685989465,\n",
      " 'InteriorWall': 5115.973792739992,\n",
      " 'RaisedFloor': 168.78740766564601,\n",
      " 'Roof': 423.8474802081981,\n",
      " 'Shade': 283.91268931643106,\n",
      " 'SlabOnGrade': 243.2793321101385}\n"
     ]
    }
   ],
   "source": [
    "from lxml import etree\n",
    "import xgbxml\n",
    "from pprint import pprint\n",
    "parser = xgbxml.get_parser('0.37')\n",
    "tree = etree.parse('gbXMLStandard.xml', parser)\n",
    "gbxml = tree.getroot()\n",
    "\n",
    "result = {}\n",
    "for surface in gbxml.Campus.Surfaces:\n",
    "    surface_type = surface.surfaceType\n",
    "    surface_plus_openings_area = surface.PlanarGeometry.get_area()\n",
    "    x = result.setdefault(surface_type,0)\n",
    "    result[surface_type] = x + surface_plus_openings_area\n",
    "\n",
    "pprint(result)\n"
   ]
  },
  {
   "cell_type": "markdown",
   "metadata": {},
   "source": [
    "## Areas and window-to-wall ratio by orientation"
   ]
  },
  {
   "cell_type": "code",
   "execution_count": 6,
   "metadata": {},
   "outputs": [
    {
     "name": "stdout",
     "output_type": "stream",
     "text": [
      "{57.0: {'opening_area': 581.2910685181002,\n",
      "        'surface_area': 4437.984049038669,\n",
      "        'total_area': 5019.275117556765,\n",
      "        'window_to_wall_ratio': 0.11581175665880926},\n",
      " 101.77: {'opening_area': 0.0,\n",
      "          'surface_area': 1.379421701942,\n",
      "          'total_area': 1.379421701942,\n",
      "          'window_to_wall_ratio': 0.0},\n",
      " 147.0: {'opening_area': 0.0,\n",
      "         'surface_area': 1678.383655294186,\n",
      "         'total_area': 1678.383655294186,\n",
      "         'window_to_wall_ratio': 0.0},\n",
      " 237.0: {'opening_area': 666.6709195756767,\n",
      "         'surface_area': 3911.492811425113,\n",
      "         'total_area': 4578.163731000785,\n",
      "         'window_to_wall_ratio': 0.14561971977134655},\n",
      " 326.87: {'opening_area': 0.0,\n",
      "          'surface_area': 4.068926225344818,\n",
      "          'total_area': 4.068926225344818,\n",
      "          'window_to_wall_ratio': 0.0},\n",
      " 327.0: {'opening_area': 57.16800044196051,\n",
      "         'surface_area': 6895.968675648382,\n",
      "         'total_area': 6953.136676090338,\n",
      "         'window_to_wall_ratio': 0.008221900863612156},\n",
      " 327.27: {'opening_area': 0.0,\n",
      "          'surface_area': 1.8897208278678783,\n",
      "          'total_area': 1.8897208278678783,\n",
      "          'window_to_wall_ratio': 0.0}}\n"
     ]
    }
   ],
   "source": [
    "from lxml import etree\n",
    "import xgbxml\n",
    "from pprint import pprint\n",
    "\n",
    "parser=xgbxml.get_parser('0.37')\n",
    "tree=etree.parse('gbXMLStandard.xml', parser)  # file available on GitHub here: https://github.com/GreenBuildingXML/Sample_gbXML_Files\n",
    "gbxml=tree.getroot()\n",
    "result={}\n",
    "for surface in gbxml.Campus.Surfaces:\n",
    "\n",
    "    cad_model_azimuth = gbxml.Campus.Location.CADModelAzimuth.value\n",
    "    surface_azimuth = surface.RectangularGeometry.Azimuth.value\n",
    "    orientation = cad_model_azimuth + surface_azimuth\n",
    "\n",
    "    total_area=surface.PlanarGeometry.get_area()\n",
    "    surface_area=surface.get_area()\n",
    "\n",
    "    opening_area = total_area - surface_area\n",
    "\n",
    "    x=result.setdefault(orientation,\n",
    "                        {'opening_area':0,\n",
    "                         'surface_area':0,\n",
    "                         'total_area':0}\n",
    "                       )\n",
    "    x['opening_area']+=opening_area\n",
    "    x['surface_area']+=surface_area\n",
    "    x['total_area']+=total_area\n",
    "\n",
    "for k,v in result.items():\n",
    "    result[k]['window_to_wall_ratio']=result[k]['opening_area'] / result[k]['total_area']\n",
    "\n",
    "result = dict(sorted(result.items()))  # sorts the dictionary by key\n",
    "\n",
    "pprint(result)"
   ]
  },
  {
   "cell_type": "code",
   "execution_count": null,
   "metadata": {},
   "outputs": [],
   "source": [
    "for key in gbxml.Campus[1]:\n",
    "    print(key)"
   ]
  },
  {
   "cell_type": "code",
   "execution_count": 10,
   "metadata": {},
   "outputs": [
    {
     "name": "stdout",
     "output_type": "stream",
     "text": [
      "list_keys: ['StreetAddress', 'Area', 'BuildingStorey', 'Space', 'Name', 'Description', 'Lighting', 'PeakDomesticHotWaterFlow']\n",
      "list_num_keys: [1, 1, 20, 431, 2, 2, 1, 1]\n"
     ]
    }
   ],
   "source": [
    "from gbxmlhelper import find_thekey\n",
    "list_keys, list_num_keys = find_thekey(gbxml.Campus.Building)\n",
    "\n",
    "print(f\"list_keys: {list_keys}\")\n",
    "print(f\"list_num_keys: {list_num_keys}\")"
   ]
  },
  {
   "cell_type": "code",
   "execution_count": null,
   "metadata": {},
   "outputs": [],
   "source": [
    "for idx, key in enumerate(gbxml.Campus):\n",
    "    key_tag = key.tag.replace('{http://www.gbxml.org/schema}', '')\n",
    "    # print(f'{idx}: {key_tag}')\n",
    "    if key_tag == 'Building':\n",
    "        print(f'{idx}: {key_tag}')"
   ]
  },
  {
   "cell_type": "code",
   "execution_count": null,
   "metadata": {},
   "outputs": [],
   "source": [
    "from gbxmlhelper import search_its_idx\n",
    "\n",
    "idx = search_its_idx(gbxml.Campus, 'Building')\n",
    "print(f\"Building is at index {idx}\")"
   ]
  }
 ],
 "metadata": {
  "kernelspec": {
   "display_name": "py310_gbxml",
   "language": "python",
   "name": "python3"
  },
  "language_info": {
   "codemirror_mode": {
    "name": "ipython",
    "version": 3
   },
   "file_extension": ".py",
   "mimetype": "text/x-python",
   "name": "python",
   "nbconvert_exporter": "python",
   "pygments_lexer": "ipython3",
   "version": "3.10.13"
  }
 },
 "nbformat": 4,
 "nbformat_minor": 2
}
